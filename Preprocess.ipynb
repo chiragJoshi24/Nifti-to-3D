{
 "cells": [
  {
   "cell_type": "code",
   "execution_count": null,
   "id": "560b78af",
   "metadata": {
    "tags": []
   },
   "outputs": [],
   "source": [
    "import os, glob\n",
    "import nibabel as nib\n",
    "import numpy as np\n",
    "import matplotlib.pyplot as plt\n",
    "import cv2\n",
    "import glob"
   ]
  },
  {
   "cell_type": "code",
   "execution_count": null,
   "id": "bf46cee7",
   "metadata": {
    "tags": []
   },
   "outputs": [],
   "source": [
    "dataInputPath = 'data/volumes/'\n",
    "imagePathInput = os.path.join(dataInputPath, 'img/')\n",
    "maskPathInput = os.path.join(dataInputPath, 'mask/')\n",
    "\n",
    "dataOutputPath = 'data/slices/'\n",
    "imageSliceOutput = os.path.join(dataOutputPath, 'img/')\n",
    "maskSliceOutput = os.path.join(dataOutputPath, 'mask/')\n",
    "\n",
    "HOUNSFIELD_MIN = -1000\n",
    "HOUNSFIELD_MAX = 2000\n",
    "HOUNSFIELD_RANGE = HOUNSFIELD_MAX - HOUNSFIELD_MIN\n",
    "\n",
    "\n",
    "SLICE_X = False\n",
    "SLICE_Y = False\n",
    "SLICE_Z = True\n",
    "\n",
    "SLICE_DECIMATE_IDENTIFIER = 3"
   ]
  },
  {
   "cell_type": "code",
   "execution_count": null,
   "id": "fc919ada-d324-4179-8b3a-9a311ced0440",
   "metadata": {},
   "outputs": [],
   "source": [
    "imgPath = os.path.join(imagePathInput, 'volume-32.nii.gz')\n",
    "img = nib.load(imgPath).get_fdata()\n",
    "np.min(img), np.max(img), img.shape, type(img)"
   ]
  },
  {
   "cell_type": "code",
   "execution_count": null,
   "id": "f597f472-3037-4145-a433-af3bfc81e63a",
   "metadata": {},
   "outputs": [],
   "source": [
    "maskPath = os.path.join(maskPathInput, 'labels-32.nii.gz')\n",
    "mask = nib.load(maskPath).get_fdata()\n",
    "np.min(mask), np.max(mask), mask.shape, type(mask)"
   ]
  },
  {
   "cell_type": "code",
   "execution_count": null,
   "id": "7f7543b2-2924-45db-adad-d3614bb4a629",
   "metadata": {},
   "outputs": [],
   "source": [
    "imgSlice = mask[:,:,15]\n",
    "plt.imshow(imgSlice, cmap='gray')\n",
    "plt.show()"
   ]
  },
  {
   "cell_type": "code",
   "execution_count": null,
   "id": "a6f1004f-8c7b-459d-a7ab-b0c9b143decd",
   "metadata": {},
   "outputs": [],
   "source": [
    "def normalizeImageIntensityRange(img):\n",
    "    img[img < HOUNSFIELD_MIN] = HOUNSFIELD_MIN\n",
    "    img[img > HOUNSFIELD_MAX] = HOUNSFIELD_MAX\n",
    "    return (img - HOUNSFIELD_MIN) / HOUNSFIELD_RANGE\n",
    "\n",
    "nImg = normalizeImageIntensityRange(img)\n",
    "np.min(nImg), np.max(nImg), nImg.shape, type(nImg)"
   ]
  },
  {
   "cell_type": "code",
   "execution_count": null,
   "id": "ed4574f4-4013-4180-8f16-52d3dd636c0e",
   "metadata": {},
   "outputs": [],
   "source": [
    "def readImageVolume(imgPath, normalize=False):\n",
    "    img = nib.load(imgPath).get_fdata()\n",
    "    if normalize:\n",
    "        return normalizeImageIntensityRange(img)\n",
    "    else:\n",
    "        return img\n",
    "    \n",
    "readImageVolume(imgPath, normalize=True)\n",
    "readImageVolume(maskPath, normalize=False)"
   ]
  },
  {
   "cell_type": "code",
   "execution_count": null,
   "id": "19441b22-04ca-4ebe-b330-313ce064c6ce",
   "metadata": {},
   "outputs": [],
   "source": [
    "def saveSlice(img, fname, path):\n",
    "    img = np.uint8(img * 255)\n",
    "    fout = os.path.join(path, f'{fname}.png')\n",
    "    cv2.imwrite(fout, img)\n",
    "    print(f'[+] Slice saved: {fout}', end='\\r')\n",
    "    \n",
    "saveSlice(nImg[:,:,50], 'test', imageSliceOutput)\n",
    "saveSlice(mask[:,:,50], 'test', maskSliceOutput)"
   ]
  },
  {
   "cell_type": "code",
   "execution_count": null,
   "id": "dbb7a3a7-5832-499d-8b2a-dfa47d4e4fdc",
   "metadata": {},
   "outputs": [],
   "source": [
    "def sliceAndSaveVolumeImage(vol, fname, path):\n",
    "    (dimx, dimy, dimz) = vol.shape\n",
    "    print(dimx, dimy, dimz)\n",
    "    cnt = 0\n",
    "    if SLICE_X:\n",
    "        cnt += dimx\n",
    "        print('Slicing X: ')\n",
    "        for i in range(dimx):\n",
    "            saveSlice(vol[i,:,:], fname+f'-slice{str(i).zfill(SLICE_DECIMATE_IDENTIFIER)}_x', path)\n",
    "            \n",
    "    if SLICE_Y:\n",
    "        cnt += dimy\n",
    "        print('Slicing Y: ')\n",
    "        for i in range(dimy):\n",
    "            saveSlice(vol[:,i,:], fname+f'-slice{str(i).zfill(SLICE_DECIMATE_IDENTIFIER)}_y', path)\n",
    "            \n",
    "    if SLICE_Z:\n",
    "        cnt += dimz\n",
    "        print('Slicing Z: ')\n",
    "        for i in range(dimz):\n",
    "            saveSlice(vol[:,:,i], fname+f'-slice{str(i).zfill(SLICE_DECIMATE_IDENTIFIER)}_z', path)\n",
    "    return cnt"
   ]
  },
  {
   "cell_type": "code",
   "execution_count": null,
   "id": "cad9f075-9ad1-4378-9b52-3942016b5691",
   "metadata": {},
   "outputs": [],
   "source": [
    "for index, filename in enumerate(sorted(glob.iglob(imagePathInput+'*.nii.gz'))):\n",
    "    img = readImageVolume(filename, True)\n",
    "    print(filename, img.shape, np.sum(img.shape), np.min(img), np.max(img))\n",
    "    numOfSlices = sliceAndSaveVolumeImage(img, 'scan'+str(index), imageSliceOutput)\n",
    "    print(f'\\n{filename}, {numOfSlices} slices created \\n')"
   ]
  },
  {
   "cell_type": "code",
   "execution_count": null,
   "id": "6798b903-1a4d-4236-acfc-77a70bfcc6af",
   "metadata": {},
   "outputs": [],
   "source": [
    "for index, filename in enumerate(sorted(glob.iglob(maskPathInput+'*.nii.gz'))):\n",
    "    img = readImageVolume(filename, False)\n",
    "    print(filename, img.shape, np.sum(img.shape), np.min(img), np.max(img))\n",
    "    numOfSlices = sliceAndSaveVolumeImage(img, 'scan'+str(index), maskSliceOutput)\n",
    "    print(f'\\n{filename}, {numOfSlices} slices created \\n')"
   ]
  }
 ],
 "metadata": {
  "kernelspec": {
   "display_name": "Python 3",
   "language": "python",
   "name": "python3"
  },
  "language_info": {
   "codemirror_mode": {
    "name": "ipython",
    "version": 3
   },
   "file_extension": ".py",
   "mimetype": "text/x-python",
   "name": "python",
   "nbconvert_exporter": "python",
   "pygments_lexer": "ipython3",
   "version": "3.7.3"
  }
 },
 "nbformat": 4,
 "nbformat_minor": 5
}
