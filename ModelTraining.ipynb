{
 "cells": [
  {
   "cell_type": "code",
   "execution_count": null,
   "id": "d5ca13be",
   "metadata": {},
   "outputs": [],
   "source": [
    "import os\n",
    "import matplotlib.pyplot as plt\n",
    "import nibabel as nib\n",
    "\n",
    "import tensorflow as tf\n",
    "from tensorflow.keras.preprocessing.image import ImageDataGenerator \n",
    "from tensorflow import keras"
   ]
  },
  {
   "cell_type": "code",
   "execution_count": null,
   "id": "9609b0c1-934d-4bb7-a3c6-cdbc67909829",
   "metadata": {},
   "outputs": [],
   "source": [
    "SEED = 909\n",
    "BATCH_SIZE_TRAIN = 32\n",
    "BATCH_SIZE_TEST = 32\n",
    "\n",
    "IMAGE_HEIGHT = 128\n",
    "IMAGE_WIDTH = 128\n",
    "IMG_SIZE = (IMAGE_HEIGHT, IMAGE_WIDTH)\n",
    "\n",
    "data_dir = 'data/slices/'\n",
    "data_dir_train = os.path.join(data_dir, 'training')\n",
    "data_dir_train_image = os.path.join(data_dir_train, 'img')\n",
    "data_dir_train_mask = os.path.join(data_dir_train, 'mask')\n",
    "\n",
    "data_dir_test = os.path.join(data_dir, 'test')\n",
    "data_dir_test_image = os.path.join(data_dir_test, 'img')\n",
    "data_dir_test_mask = os.path.join(data_dir_test, 'mask')\n",
    "\n",
    "NUM_TRAIN = 1163\n",
    "NUM_TEST = 10\n",
    "\n",
    "NUM_OF_EPOCHS = 100"
   ]
  },
  {
   "cell_type": "code",
   "execution_count": null,
   "id": "c3389a42-ce66-413b-b4db-cdbb6b08fdbc",
   "metadata": {},
   "outputs": [],
   "source": [
    "def create_segmentation_generator_train(img_path, msk_path, BATCH_SIZE):\n",
    "    data_gen_args = dict(rescale=1./255)\n",
    "    datagen = ImageDataGenerator(**data_gen_args)\n",
    "    \n",
    "    img_generator = datagen.flow_from_directory(img_path, target_size=IMG_SIZE, class_mode=None, color_mode='grayscale', batch_size=BATCH_SIZE, seed=SEED)\n",
    "    msk_generator = datagen.flow_from_directory(msk_path, target_size=IMG_SIZE, class_mode=None, color_mode='grayscale', batch_size=BATCH_SIZE, seed=SEED)\n",
    "    return zip(img_generator, msk_generator)\n",
    "\n",
    "\n",
    "def create_segmentation_generator_test(img_path, msk_path, BATCH_SIZE):\n",
    "    data_gen_args = dict(rescale=1./255)\n",
    "    datagen = ImageDataGenerator(**data_gen_args)\n",
    "    \n",
    "    img_generator = datagen.flow_from_directory(img_path, target_size=IMG_SIZE, class_mode=None, color_mode='grayscale', batch_size=BATCH_SIZE, seed=SEED)\n",
    "    msk_generator = datagen.flow_from_directory(msk_path, target_size=IMG_SIZE, class_mode=None, color_mode='grayscale', batch_size=BATCH_SIZE, seed=SEED)\n",
    "    return zip(img_generator, msk_generator)"
   ]
  },
  {
   "cell_type": "code",
   "execution_count": null,
   "id": "055fdb31-2e7f-4f8a-b22c-f0a7b634d95c",
   "metadata": {},
   "outputs": [],
   "source": [
    "train_generator = create_segmentation_generator_train(data_dir_train_image, data_dir_train_mask, BATCH_SIZE_TRAIN)\n",
    "test_generator = create_segmentation_generator_test(data_dir_test_image, data_dir_test_mask, BATCH_SIZE_TEST)"
   ]
  },
  {
   "cell_type": "code",
   "execution_count": null,
   "id": "60a88b6f-14cb-45a1-ae11-ee20735a99f7",
   "metadata": {},
   "outputs": [],
   "source": [
    "def display(display_list):\n",
    "    plt.figure(figsize=(15,15))\n",
    "    \n",
    "    title = ['Input Image', 'True Mask', 'Predicted Mask']\n",
    "    \n",
    "    for i in range(len(display_list)):\n",
    "        plt.subplot(1, len(display_list), i+1)\n",
    "        plt.title(title[i])\n",
    "        plt.imshow(tf.keras.preprocessing.image.array_to_img(display_list[i]), cmap='gray')\n",
    "    plt.show()"
   ]
  },
  {
   "cell_type": "code",
   "execution_count": null,
   "id": "67084ea3-79d3-46c5-95d0-1e3e79ec80bd",
   "metadata": {},
   "outputs": [],
   "source": [
    "def show_dataset(datagen, num=1):\n",
    "    for i in range(0,num):\n",
    "        image,mask = next(datagen)\n",
    "        display([image[0], mask[0]])"
   ]
  },
  {
   "cell_type": "code",
   "execution_count": null,
   "id": "2aab9dce-0552-4993-b3c9-6700c8ac718d",
   "metadata": {},
   "outputs": [],
   "source": [
    "show_dataset(train_generator, 2)"
   ]
  },
  {
   "cell_type": "code",
   "execution_count": null,
   "id": "93a95fcc-c7b3-4b54-a5e6-ea815ded7b74",
   "metadata": {},
   "outputs": [],
   "source": [
    "def unet(n_levels, initial_features=32, n_blocks=2, kernel_size=3, pooling_size=2, in_channels=1, out_channels=1):\n",
    "    inputs = keras.layers.Input(shape=(IMAGE_HEIGHT, IMAGE_WIDTH, in_channels))\n",
    "    x = inputs\n",
    "    \n",
    "    convpars = dict(kernel_size=kernel_size, activation='relu', padding='same')\n",
    "    \n",
    "    #downstream\n",
    "    skips = {}\n",
    "    for level in range(n_levels):\n",
    "        for _ in range(n_blocks):\n",
    "            x = keras.layers.Conv2D(initial_features * 2 ** level, **convpars)(x)\n",
    "        if level < n_levels - 1:\n",
    "            skips[level] = x\n",
    "            x = keras.layers.MaxPool2D(pooling_size)(x)\n",
    "            \n",
    "    # upstream\n",
    "    for level in reversed(range(n_levels-1)):\n",
    "        x = keras.layers.Conv2DTranspose(initial_features * 2 ** level, strides=pooling_size, **convpars)(x)\n",
    "        x = keras.layers.Concatenate()([x, skips[level]])\n",
    "        for _ in range(n_blocks):\n",
    "            x = keras.layers.Conv2D(initial_features * 2 ** level, **convpars)(x)\n",
    "            \n",
    "    # output\n",
    "    activation = 'sigmoid' if out_channels == 1 else 'softmax'\n",
    "    x = keras.layers.Conv2D(out_channels, kernel_size=1, activation=activation, padding='same')(x)\n",
    "    \n",
    "    return keras.Model(inputs=[inputs], outputs=[x], name=f'UNET-L{n_levels}-F{initial_features}')"
   ]
  },
  {
   "cell_type": "code",
   "execution_count": null,
   "id": "3cf04b39",
   "metadata": {},
   "outputs": [],
   "source": [
    "from keras.callbacks import ModelCheckpoint, EarlyStopping"
   ]
  },
  {
   "cell_type": "code",
   "execution_count": null,
   "id": "ca42dafa",
   "metadata": {},
   "outputs": [],
   "source": [
    "checkpoint_path = 'model_checkpoint.h5'\n",
    "model_checkpoint = ModelCheckpoint(checkpoint_path, monitor='val_loss', save_best_only=True, save_weights_only=False, mode='min', verbose=1)\n",
    "early_stopping = EarlyStopping(monitor='val_loss', patience=10, mode='min', restore_best_weights=True, verbose=1)\n",
    "\n",
    "model.compile(optimizer='adam', loss='binary_crossentropy', metrics=['accuracy'])\n",
    "\n",
    "history = model.fit_generator(generator=train_generator,\n",
    "                              steps_per_epoch=EPOCH_STEP_TRAIN,\n",
    "                              validation_data=test_generator,\n",
    "                              validation_steps=EPOCH_STEP_TEST,\n",
    "                              epochs=NUM_OF_EPOCHS,\n",
    "                              callbacks=[model_checkpoint, early_stopping])\n"
   ]
  },
  {
   "cell_type": "code",
   "execution_count": null,
   "id": "4da2c43d-77a4-4a94-a94e-748ebfaa1501",
   "metadata": {},
   "outputs": [],
   "source": [
    "model.summary()"
   ]
  },
  {
   "cell_type": "code",
   "execution_count": null,
   "id": "74236a15-9410-4d80-9023-200ca212bbaf",
   "metadata": {},
   "outputs": [],
   "source": [
    "model.save(f'UNET-Segmentation_{IMAGE_HEIGHT}_{IMAGE_WIDTH}.h5')"
   ]
  },
  {
   "cell_type": "code",
   "execution_count": null,
   "id": "e43a41d3-bbae-4a62-a042-c3ee6e73968e",
   "metadata": {},
   "outputs": [],
   "source": [
    "test_generator = create_segmentation_generator_test(data_dir_test_image, data_dir_test_mask, 1)"
   ]
  },
  {
   "cell_type": "code",
   "execution_count": null,
   "id": "566554a2-e161-48df-8650-ceffdc062281",
   "metadata": {},
   "outputs": [],
   "source": [
    "def show_prediction(datagen, num=1):\n",
    "    for i in range(0,num):\n",
    "        image,mask = next(datagen)\n",
    "        pred_mask = model.predict(image)[0] > 0.5\n",
    "        display([image[0], mask[0], pred_mask])"
   ]
  },
  {
   "cell_type": "code",
   "execution_count": null,
   "id": "10945b84-3d96-4bee-b116-c1b56cc92e02",
   "metadata": {},
   "outputs": [],
   "source": [
    "show_prediction(test_generator, 3)"
   ]
  }
 ],
 "metadata": {
  "kernelspec": {
   "display_name": "Python 3",
   "language": "python",
   "name": "python3"
  },
  "language_info": {
   "codemirror_mode": {
    "name": "ipython",
    "version": 3
   },
   "file_extension": ".py",
   "mimetype": "text/x-python",
   "name": "python",
   "nbconvert_exporter": "python",
   "pygments_lexer": "ipython3",
   "version": "3.7.3"
  }
 },
 "nbformat": 4,
 "nbformat_minor": 5
}
