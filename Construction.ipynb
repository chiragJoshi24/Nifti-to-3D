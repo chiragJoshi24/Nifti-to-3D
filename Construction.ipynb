{
 "cells": [
  {
   "cell_type": "code",
   "execution_count": null,
   "metadata": {},
   "outputs": [],
   "source": [
    "from tensorflow.keras.models import load_model\n",
    "import nibabel as nib\n",
    "from niwidgets import NiftiWidget\n",
    "import numpy as np\n",
    "import matplotlib.pyplot as plt\n",
    "import cv2"
   ]
  },
  {
   "cell_type": "code",
   "execution_count": null,
   "metadata": {},
   "outputs": [],
   "source": [
    "HOUNSFIELD_MIN = -1000\n",
    "HOUNSFIELD_MAX = 2000\n",
    "HOUNSFIELD_RANGE = HOUNSFIELD_MAX - HOUNSFIELD_MIN\n",
    "\n",
    "SLICE_X = True\n",
    "SLICE_Y = True\n",
    "SLICE_Z = False\n",
    "\n",
    "IMAGE_HEIGHT = 40\n",
    "IMAGE_WIDTH = 80\n",
    "IMG_SIZE = (IMAGE_HEIGHT, IMAGE_WIDTH)"
   ]
  },
  {
   "cell_type": "code",
   "execution_count": null,
   "metadata": {},
   "outputs": [],
   "source": [
    "def normalizeImageIntensityRange(img):\n",
    "    img[img < HOUNSFIELD_MIN] = HOUNSFIELD_MIN\n",
    "    img[img > HOUNSFIELD_MAX] = HOUNSFIELD_MAX\n",
    "    return (img - HOUNSFIELD_MIN)/HOUNSFIELD_RANGE"
   ]
  },
  {
   "cell_type": "code",
   "execution_count": null,
   "metadata": {},
   "outputs": [],
   "source": [
    "targetImagePath = f'data/volumes/img/{targetName}.nii'\n",
    "targetMaskPath  = f'data/volumes/mask/{targetName}.nii'\n",
    "\n",
    "imgTargetNii = nib.load(targetImagePath)\n",
    "imgMaskNii = nib.load(targetMaskPath)\n",
    "\n",
    "imgTarget = normalizeImageIntensityRange(imgTargetNii.get_fdata())\n",
    "imgMask = imgMaskNii.get_fdata()"
   ]
  },
  {
   "cell_type": "code",
   "execution_count": null,
   "metadata": {},
   "outputs": [],
   "source": [
    "model = load_model('UNET-Segmentation_40_80.h5')"
   ]
  },
  {
   "cell_type": "code",
   "execution_count": null,
   "metadata": {},
   "outputs": [],
   "source": [
    "def scaleImg(img, height, width):\n",
    "    return cv2.resize(img, dsize=(width, height), interpolation=cv2.INTER_LINEAR)"
   ]
  },
  {
   "cell_type": "code",
   "execution_count": null,
   "metadata": {},
   "outputs": [],
   "source": [
    "sliceIndex = 24"
   ]
  },
  {
   "cell_type": "code",
   "execution_count": null,
   "metadata": {},
   "outputs": [],
   "source": [
    "plt.figure(figsize=(15,15))\n",
    "imgSlice = imgTarget[sliceIndex,:,:]\n",
    "imgDimX, imgDimY = imgSlice.shape\n",
    "imgSliceScaled = scaleImg(imgSlice, IMAGE_HEIGHT, IMAGE_WIDTH)\n",
    "plt.subplot(1,2,1)\n",
    "plt.imshow(imgSlice, cmap='gray')\n",
    "plt.subplot(1,2,2)\n",
    "plt.imshow(imgSliceScaled, cmap='gray')\n",
    "plt.show()\n",
    "imgSlice.shape, imgSliceScaled.shape"
   ]
  },
  {
   "cell_type": "code",
   "execution_count": null,
   "metadata": {},
   "outputs": [],
   "source": [
    "plt.figure(figsize=(15,15))\n",
    "maskSlice = imgMask[sliceIndex,:,:]\n",
    "maskSliceScaled = scaleImg(maskSlice, IMAGE_HEIGHT, IMAGE_WIDTH)\n",
    "plt.subplot(1,2,1)\n",
    "plt.imshow(maskSlice, cmap='gray')\n",
    "plt.subplot(1,2,2)\n",
    "plt.imshow(maskSliceScaled, cmap='gray')\n",
    "plt.show()\n",
    "maskSlice.shape, maskSliceScaled.shape"
   ]
  },
  {
   "cell_type": "code",
   "execution_count": null,
   "metadata": {},
   "outputs": [],
   "source": [
    "plt.figure(figsize=(15,15))\n",
    "imageInput = imgSliceScaled[np.newaxis,:,:,np.newaxis]\n",
    "maskPredict = model.predict(imageInput)[0,:,:,0]\n",
    "maskPredictScaled = scaleImg(maskPredict, imgDimX, imgDimY)\n",
    "plt.subplot(1,2,2)\n",
    "plt.imshow(maskPredict, cmap='gray')\n",
    "plt.subplot(1,2,1)\n",
    "plt.imshow(maskPredictScaled, cmap='gray')\n",
    "plt.show()\n",
    "maskPredictScaled.shape, maskPredict.shape"
   ]
  },
  {
   "cell_type": "code",
   "execution_count": null,
   "metadata": {},
   "outputs": [],
   "source": [
    "def predictVolume(inImg, toBin=True):\n",
    "    (xMax, yMax, zMax) = inImg.shape\n",
    "    \n",
    "    outImgX = np.zeros((xMax, yMax, zMax))\n",
    "    outImgY = np.zeros((xMax, yMax, zMax))\n",
    "    outImgZ = np.zeros((xMax, yMax, zMax))\n",
    "    \n",
    "    cnt = 0.0\n",
    "    if SLICE_X:\n",
    "        cnt += 1.0\n",
    "        for i in range(xMax):\n",
    "            img = scaleImg(inImg[i,:,:], IMAGE_HEIGHT, IMAGE_WIDTH)[np.newaxis,:,:,np.newaxis]\n",
    "            tmp = model.predict(img)[0,:,:,0]\n",
    "            outImgX[i,:,:] = scaleImg(tmp, yMax, zMax)\n",
    "    if SLICE_Y:\n",
    "        cnt += 1.0\n",
    "        for i in range(yMax):\n",
    "            img = scaleImg(inImg[:,i,:], IMAGE_HEIGHT, IMAGE_WIDTH)[np.newaxis,:,:,np.newaxis]\n",
    "            tmp = model.predict(img)[0,:,:,0]\n",
    "            outImgY[:,i,:] = scaleImg(tmp, xMax, zMax)\n",
    "    if SLICE_Z:\n",
    "        cnt += 1.0\n",
    "        for i in range(zMax):\n",
    "            img = scaleImg(inImg[:,:,i], IMAGE_HEIGHT, IMAGE_WIDTH)[np.newaxis,:,:,np.newaxis]\n",
    "            tmp = model.predict(img)[0,:,:,0]\n",
    "            outImgZ[:,:,i] = scaleImg(tmp, xMax, yMax)\n",
    "            \n",
    "    outImg = (outImgX + outImgY + outImgZ)/cnt\n",
    "    if(toBin):\n",
    "        outImg[outImg>0.5] = 1.0\n",
    "        outImg[outImg<=0.5] = 0.0\n",
    "    return outImg"
   ]
  },
  {
   "cell_type": "code",
   "execution_count": null,
   "metadata": {},
   "outputs": [],
   "source": [
    "predImg = predictVolume(imgTarget)"
   ]
  },
  {
   "cell_type": "code",
   "execution_count": null,
   "metadata": {},
   "outputs": [],
   "source": [
    "my_widget = NiftiWidget(imgTargetNii)\n",
    "my_widget.nifti_plotter(colormap='gray')"
   ]
  },
  {
   "cell_type": "code",
   "execution_count": null,
   "metadata": {},
   "outputs": [],
   "source": [
    "my_widget = NiftiWidget(nib.dataobj_images.DataobjImage(predImg))\n",
    "my_widget.nifti_plotter(colormap='gray')"
   ]
  },
  {
   "cell_type": "code",
   "execution_count": null,
   "metadata": {},
   "outputs": [],
   "source": [
    "my_widget = NiftiWidget(imgMaskNii)\n",
    "my_widget.nifti_plotter(colormap='gray')"
   ]
  },
  {
   "cell_type": "code",
   "execution_count": null,
   "metadata": {},
   "outputs": [],
   "source": [
    "from skimage.measure import marching_cubes_lewiner"
   ]
  },
  {
   "cell_type": "code",
   "execution_count": null,
   "metadata": {},
   "outputs": [],
   "source": [
    "vertices,faces,_,_ = marching_cubes_lewiner(predImg)"
   ]
  },
  {
   "cell_type": "code",
   "execution_count": null,
   "metadata": {},
   "outputs": [],
   "source": [
    "import meshplot as mp"
   ]
  },
  {
   "cell_type": "code",
   "execution_count": null,
   "metadata": {},
   "outputs": [],
   "source": [
    "mp.plot(vertices, faces, return_plot=False)"
   ]
  },
  {
   "cell_type": "code",
   "execution_count": null,
   "metadata": {},
   "outputs": [],
   "source": [
    "from stl import mesh"
   ]
  },
  {
   "cell_type": "code",
   "execution_count": null,
   "metadata": {},
   "outputs": [],
   "source": [
    "def dataToMesh(vert, faces):\n",
    "    mm = mesh.Mesh(np.zeros(faces.shape[0], dtype=mesh.Mesh.dtype))\n",
    "    for i, f in enumerate(faces):\n",
    "        for j in range(3):\n",
    "            mm.vectors[i][j] = vert[f[j],:]\n",
    "    return mm"
   ]
  },
  {
   "cell_type": "code",
   "execution_count": null,
   "metadata": {},
   "outputs": [],
   "source": [
    "mm = dataToMesh(vertices, faces)\n",
    "mm.save('Segmented-Organ.stl')"
   ]
  }
 ],
 "metadata": {
  "kernelspec": {
   "display_name": "Python 3",
   "language": "python",
   "name": "python3"
  },
  "language_info": {
   "codemirror_mode": {
    "name": "ipython",
    "version": 3
   },
   "file_extension": ".py",
   "mimetype": "text/x-python",
   "name": "python",
   "nbconvert_exporter": "python",
   "pygments_lexer": "ipython3",
   "version": "3.7.3"
  }
 },
 "nbformat": 4,
 "nbformat_minor": 4
}
